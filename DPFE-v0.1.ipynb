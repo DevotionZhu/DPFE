{
 "cells": [
  {
   "cell_type": "code",
   "execution_count": 2,
   "metadata": {
    "collapsed": true
   },
   "outputs": [],
   "source": [
    "import numpy as np\n",
    "import pandas as pd\n",
    "import datetime\n",
    "import os\n",
    "import matplotlib.pyplot as plt\n",
    "import matplotlib\n",
    "import networkx as nx\n",
    "import pickle\n",
    "from collections import OrderedDict\n",
    "import copy\n",
    "from scipy.sparse import csr_matrix\n",
    "from scipy import io\n",
    "import seaborn as sns\n",
    "import joblib\n",
    "from base import *\n",
    "from joblib import Parallel, delayed"
   ]
  },
  {
   "cell_type": "markdown",
   "metadata": {},
   "source": [
    "## Read data"
   ]
  },
  {
   "cell_type": "code",
   "execution_count": 3,
   "metadata": {
    "collapsed": false,
    "scrolled": true
   },
   "outputs": [],
   "source": [
    "with open('link_count_data.pickle', 'rb') as handle:\n",
    "    count_data = pickle.load(handle)\n",
    "with open('link_spd_data.pickle', 'rb') as handle:\n",
    "    spd_data = pickle.load(handle)"
   ]
  },
  {
   "cell_type": "code",
   "execution_count": 4,
   "metadata": {
    "collapsed": true
   },
   "outputs": [],
   "source": [
    "with open('od_list.pickle', 'rb') as handle:\n",
    "    (O_list, D_list) = pickle.load(handle)\n",
    "# with open('graph_info.pickle', 'rb') as handle:\n",
    "#     graph_info = pickle.load(handle)\n",
    "G = nx.read_gpickle('graph.pickle')\n",
    "G = nx.freeze(G)"
   ]
  },
  {
   "cell_type": "markdown",
   "metadata": {},
   "source": [
    "## Interpolate the data"
   ]
  },
  {
   "cell_type": "code",
   "execution_count": 5,
   "metadata": {
    "collapsed": true
   },
   "outputs": [],
   "source": [
    "for name in count_data.iterkeys():\n",
    "    count_data[name] = count_data[name].replace(0.0, np.nan)\n",
    "    count_data[name] = count_data[name].interpolate(method='linear', axis=0)\n",
    "    count_data[name] = count_data[name].interpolate(method='linear', axis=1)\n",
    "    count_data[name] = count_data[name].fillna(value = count_data[name].mean().mean())\n",
    "for name in spd_data.iterkeys():\n",
    "    spd_data[name] = spd_data[name].replace(0.0, np.nan)\n",
    "    spd_data[name] = spd_data[name].interpolate(method='linear', axis=0)\n",
    "    spd_data[name] = spd_data[name].interpolate(method='linear', axis=1)\n",
    "    spd_data[name] = spd_data[name].fillna(value = spd_data[name].mean().mean())"
   ]
  },
  {
   "cell_type": "markdown",
   "metadata": {},
   "source": [
    "## Enuerate all paths"
   ]
  },
  {
   "cell_type": "code",
   "execution_count": null,
   "metadata": {
    "collapsed": false,
    "scrolled": true
   },
   "outputs": [],
   "source": [
    "OD_paths = OrderedDict()\n",
    "link_dict = OrderedDict()\n",
    "path_list = list()\n",
    "for O in O_list:\n",
    "    for D in D_list:\n",
    "        paths = list(nx.all_simple_paths(G, O, D, cutoff=None))\n",
    "        print \"From \", O, \" To \", D, \"there are \", len(paths), \"paths\"\n",
    "        if len(paths) != 0:\n",
    "            tmp_path_list = list()\n",
    "            for path in paths:\n",
    "                path_o = Path()\n",
    "                path_o.node_list = path\n",
    "                path_o.node_to_list(G, link_dict)\n",
    "                tmp_path_list.append(path_o)\n",
    "                path_list.append(path_o)\n",
    "            OD_paths[(O, D)] = tmp_path_list"
   ]
  },
  {
   "cell_type": "markdown",
   "metadata": {},
   "source": [
    "## Generate Delta"
   ]
  },
  {
   "cell_type": "code",
   "execution_count": 7,
   "metadata": {
    "collapsed": true
   },
   "outputs": [],
   "source": [
    "num_OD = len(OD_paths)\n",
    "link_list = list(link_dict.values())\n",
    "num_link = len(link_list)\n",
    "num_path_v = [len(x) for x in OD_paths.itervalues()]\n",
    "num_path = np.sum(num_path_v)\n",
    "N = 60 / 5 * 24\n",
    "assert(len(path_list) == num_path)"
   ]
  },
  {
   "cell_type": "code",
   "execution_count": 8,
   "metadata": {
    "collapsed": true
   },
   "outputs": [],
   "source": [
    "delta = np.zeros((num_link, num_path))\n",
    "for i, link in enumerate(link_list):\n",
    "    for j, path in enumerate(path_list):\n",
    "        if link in path.link_list:\n",
    "            delta[i,j] = 1.0"
   ]
  },
  {
   "cell_type": "code",
   "execution_count": 19,
   "metadata": {
    "collapsed": true
   },
   "outputs": [],
   "source": [
    "link_loc = dict()\n",
    "for idx, link in enumerate(link_list):\n",
    "    link_loc[link] = idx"
   ]
  },
  {
   "cell_type": "markdown",
   "metadata": {},
   "source": [
    "## Build assignment matrix"
   ]
  },
  {
   "cell_type": "code",
   "execution_count": 20,
   "metadata": {
    "collapsed": true
   },
   "outputs": [],
   "source": [
    "analysis_start_time = datetime.time(0, 0, 0)\n",
    "time_interval = datetime.timedelta(minutes=5)"
   ]
  },
  {
   "cell_type": "code",
   "execution_count": 35,
   "metadata": {
    "collapsed": false
   },
   "outputs": [],
   "source": [
    "start_date = datetime.date(2014, 3, 12)\n",
    "end_date = datetime.date(2014, 3, 12)\n",
    "delta_date = datetime.timedelta(days = 1)\n",
    "time_basis = datetime.time(0,0,0)\n",
    "cur_date_time = datetime.datetime.combine(start_date, time_basis)\n",
    "end_date_time = datetime.datetime.combine(end_date, time_basis)\n",
    "\n",
    "date_need_to_finish = list()\n",
    "\n",
    "while(cur_date_time <= end_date_time):\n",
    "    no = cur_date_time.weekday()\n",
    "    if no < 8:\n",
    "        single_date = cur_date_time.date()\n",
    "        date_need_to_finish.append(single_date)\n",
    "    cur_date_time = cur_date_time + delta_date"
   ]
  },
  {
   "cell_type": "code",
   "execution_count": null,
   "metadata": {
    "collapsed": false,
    "scrolled": true
   },
   "outputs": [],
   "source": [
    "Parallel(n_jobs=7, temp_folder = 'temp', max_nbytes = '10M')(delayed(save_r)(N, spd_data, analysis_start_time, time_interval, \n",
    "                        tmp_date, link_dict, link_list, link_loc, path_list) for tmp_date in date_need_to_finish)"
   ]
  },
  {
   "cell_type": "markdown",
   "metadata": {},
   "source": [
    "## Construct P matrix"
   ]
  },
  {
   "cell_type": "code",
   "execution_count": 31,
   "metadata": {
    "collapsed": false
   },
   "outputs": [],
   "source": [
    "for link_id in new_spd_data.keys():\n",
    "    tmp_df = new_spd_data[link_id]\n",
    "    new_index = list(map(lambda x: cluster_dict[x][0], tmp_df.index))\n",
    "    new_spd_data[link_id].index = new_index"
   ]
  },
  {
   "cell_type": "code",
   "execution_count": 33,
   "metadata": {
    "collapsed": false,
    "scrolled": true
   },
   "outputs": [],
   "source": [
    "start_date = datetime.date(2014, 1, 1)\n",
    "end_date = datetime.date(2016, 12, 31)\n",
    "delta_date = datetime.timedelta(days = 1)\n",
    "time_basis = datetime.time(0,0,0)\n",
    "cur_date_time = datetime.datetime.combine(start_date, time_basis)\n",
    "end_date_time = datetime.datetime.combine(end_date, time_basis)\n",
    "\n",
    "date_need_to_finish = list()\n",
    "\n",
    "while(cur_date_time <= end_date_time):\n",
    "# #     date_need_to_finish.append(cur_date_time)\n",
    "    no = cur_date_time.weekday()\n",
    "    if no < 8:\n",
    "        single_date = cur_date_time.date()\n",
    "        if single_date in new_index:\n",
    "            date_need_to_finish.append(single_date)\n",
    "    cur_date_time = cur_date_time + delta_date"
   ]
  },
  {
   "cell_type": "markdown",
   "metadata": {},
   "source": [
    "#### parallel computing"
   ]
  },
  {
   "cell_type": "code",
   "execution_count": null,
   "metadata": {
    "collapsed": false
   },
   "outputs": [],
   "source": [
    "Parallel(n_jobs=7)(delayed(save_p)(N, new_spd_data, analysis_start_time, time_interval, \n",
    "                                   tmp_date, path_list, OD_paths) for tmp_date in date_need_to_finish)"
   ]
  },
  {
   "cell_type": "markdown",
   "metadata": {},
   "source": [
    "## Construct link flow vector"
   ]
  },
  {
   "cell_type": "code",
   "execution_count": 16,
   "metadata": {
    "collapsed": true
   },
   "outputs": [],
   "source": [
    "o_link_list = filter(lambda x: x.ID in count_data.keys(), link_list)"
   ]
  },
  {
   "cell_type": "code",
   "execution_count": 28,
   "metadata": {
    "collapsed": true
   },
   "outputs": [],
   "source": [
    "def get_x_o(N, o_link_list, tmp_date, analysis_start_time, time_interval, count_data):\n",
    "    num_o_link = len(o_link_list)\n",
    "    x = np.zeros(num_o_link * N)\n",
    "    for h in xrange(N):\n",
    "        start_time = (datetime.datetime.combine(tmp_date, analysis_start_time) + h * time_interval).time()\n",
    "        for a, link in enumerate(o_link_list):\n",
    "            data = np.float(count_data[link.ID].loc[tmp_date][start_time])\n",
    "            x[h * num_o_link + a] = data\n",
    "    return x"
   ]
  },
  {
   "cell_type": "code",
   "execution_count": null,
   "metadata": {
    "collapsed": false
   },
   "outputs": [],
   "source": [
    "start_date = datetime.date(2016, 1, 15)\n",
    "end_date = datetime.date(2016, 12, 31)\n",
    "delta_date = datetime.timedelta(days = 1)\n",
    "time_basis = datetime.time(0,0,0)\n",
    "cur_date_time = datetime.datetime.combine(start_date, time_basis)\n",
    "end_date_time = datetime.datetime.combine(end_date, time_basis)\n",
    "\n",
    "date_need_to_finish = list()\n",
    "\n",
    "while(cur_date_time <= end_date_time):\n",
    "    no = cur_date_time.weekday()\n",
    "    if no < 8:\n",
    "        single_date = cur_date_time.date()\n",
    "        date_str = single_date.strftime(\"%Y-%m-%d\")\n",
    "        print date_str\n",
    "        x = get_x_o(N, o_link_list, single_date, analysis_start_time, time_interval, count_data)\n",
    "        np.save(os.path.join('X_vector', date_str), x)\n",
    "    cur_date_time = cur_date_time + delta_date"
   ]
  },
  {
   "cell_type": "markdown",
   "metadata": {},
   "source": [
    "## Create the observed delta (time dependent)"
   ]
  },
  {
   "cell_type": "code",
   "execution_count": 98,
   "metadata": {
    "collapsed": false
   },
   "outputs": [],
   "source": [
    "observe_index = np.array(map(lambda x: x in o_link_list, link_list)).astype(np.int)\n",
    "observe_index_N = np.tile(observe_index, (N,))\n",
    "np.save(os.path.join(\"observe_index_N\"), observe_index_N)\n",
    "\n",
    "### IT'S WRONG !!! ###\n",
    "# delta_o = np.eye(num_link)[observe_index == 1, :]\n",
    "# delta_o_N = np.tile(delta_o, (N,N))\n",
    "# delta_o_N_s = csr_matrix(delta_o_N)\n",
    "### IT'S WRONG !!! ###"
   ]
  },
  {
   "cell_type": "markdown",
   "metadata": {},
   "source": [
    "## Load data to conduct DODE"
   ]
  },
  {
   "cell_type": "code",
   "execution_count": 44,
   "metadata": {
    "collapsed": true
   },
   "outputs": [],
   "source": [
    "from pfe import nnls"
   ]
  },
  {
   "cell_type": "code",
   "execution_count": null,
   "metadata": {
    "collapsed": true
   },
   "outputs": [],
   "source": [
    "tmp_date=datetime.date(random.randint(2014,2014), random.randint(1,1), random.randint(1,1))\n",
    "date_str = tmp_date.strftime(\"%Y-%m-%d\")"
   ]
  },
  {
   "cell_type": "code",
   "execution_count": 24,
   "metadata": {
    "collapsed": false
   },
   "outputs": [],
   "source": [
    "observe_index_N = np.load(\"observe_index_N.npy\")\n",
    "x_o = np.load(os.path.join('X_vector', date_str + \".npy\"))\n",
    "r = joblib.load(os.path.join(\"R_matrix\", date_str+\".pickle\")).tocsr()\n",
    "P = joblib.load(os.path.join(\"P_matrix\", date_str+\".pickle\")).tocsr()\n",
    "A = np.array(r.dot(P).todense())[observe_index_N == 1,:]"
   ]
  },
  {
   "cell_type": "code",
   "execution_count": null,
   "metadata": {
    "collapsed": false
   },
   "outputs": [],
   "source": [
    "(q_est, r_norm) = nnls(A, x_o, 200, 8192, 5, adagrad = True, use_GPU = True, \n",
    "             D_vec = None, D_vec_weight = 0.01)\n",
    "x_est =  A.dot(q_est)"
   ]
  },
  {
   "cell_type": "code",
   "execution_count": 42,
   "metadata": {
    "collapsed": false,
    "scrolled": false
   },
   "outputs": [
    {
     "data": {
      "image/png": "[encoded data removed]",
      "text/plain": [
       "<matplotlib.figure.Figure at 0x7fd3b4054e50>"
      ]
     },
     "metadata": {},
     "output_type": "display_data"
    }
   ],
   "source": [
    "plt.plot(x_o, A.dot(q_est), 'o')\n",
    "plt.plot(x_o, x_o, 'r')\n",
    "plt.show()"
   ]
  },
  {
   "cell_type": "markdown",
   "metadata": {},
   "source": [
    "## Batch computing for all dates"
   ]
  },
  {
   "cell_type": "code",
   "execution_count": 41,
   "metadata": {
    "collapsed": true
   },
   "outputs": [],
   "source": [
    "def get_qest2(tmp_date, P_date_dict):\n",
    "    date_str = tmp_date.strftime(\"%Y-%m-%d\")\n",
    "    P_date_str = P_date_dict[tmp_date].strftime(\"%Y-%m-%d\")\n",
    "    observe_index_N = np.load(\"observe_index_N.npy\")\n",
    "    x_o = np.load(os.path.join('X_vector', date_str + \".npy\"))\n",
    "    r = joblib.load(os.path.join(\"R_matrix\", date_str+\".pickle\")).tocsr()\n",
    "    P = joblib.load(os.path.join(\"P_matrix\", P_date_str+\".pickle\")).tocsr()\n",
    "    A = np.array(r.dot(P).todense())[observe_index_N == 1,:]\n",
    "    (q_est, r_norm) = nnls(A, x_o, 300, 8192, 5, adagrad = True, use_GPU = True, \n",
    "             D_vec = None, D_vec_weight = 0.01)\n",
    "    print date_str, r_norm\n",
    "    pickle.dump((q_est, r_norm), open(os.path.join('Q_vector', date_str + '.pickle'), 'wb'))"
   ]
  },
  {
   "cell_type": "code",
   "execution_count": 13,
   "metadata": {
    "collapsed": true
   },
   "outputs": [],
   "source": [
    "cluster_dict = pickle.load(open('cluster_info.pickle', 'rb'))\n",
    "P_date_dict = dict()\n",
    "for key, value in cluster_dict.iteritems():\n",
    "    new_value = value[0]\n",
    "    for e in value:\n",
    "        P_date_dict[e] = new_value"
   ]
  },
  {
   "cell_type": "code",
   "execution_count": 45,
   "metadata": {
    "collapsed": false,
    "scrolled": false
   },
   "outputs": [
    {
     "name": "stdout",
     "output_type": "stream",
     "text": [
      "2014-03-12\n",
      "2014-03-12 34948508.0\n"
     ]
    }
   ],
   "source": [
    "start_date = datetime.date(2014, 1, 1)\n",
    "end_date = datetime.date(2016, 12, 31)\n",
    "delta_date = datetime.timedelta(days = 1)\n",
    "time_basis = datetime.time(0,0,0)\n",
    "cur_date_time = datetime.datetime.combine(start_date, time_basis)\n",
    "end_date_time = datetime.datetime.combine(end_date, time_basis)\n",
    "date_qest = OrderedDict()\n",
    "\n",
    "while(cur_date_time <= end_date_time):\n",
    "    no = cur_date_time.weekday()\n",
    "    if no < 8:\n",
    "        single_date = cur_date_time.date()\n",
    "        date_str = single_date.strftime(\"%Y-%m-%d\")\n",
    "        print date_str\n",
    "        get_qest2(single_date, P_date_dict)\n",
    "    cur_date_time = cur_date_time + delta_date"
   ]
  }
 ],
 "metadata": {
  "kernelspec": {
   "display_name": "Python 2",
   "language": "python",
   "name": "python2"
  },
  "language_info": {
   "codemirror_mode": {
    "name": "ipython",
    "version": 2
   },
   "file_extension": ".py",
   "mimetype": "text/x-python",
   "name": "python",
   "nbconvert_exporter": "python",
   "pygments_lexer": "ipython2",
   "version": "2.7.13"
  }
 },
 "nbformat": 4,
 "nbformat_minor": 2
}
