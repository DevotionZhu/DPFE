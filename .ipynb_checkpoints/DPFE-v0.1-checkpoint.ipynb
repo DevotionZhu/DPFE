{
 "cells": [
  {
   "cell_type": "code",
   "execution_count": 1,
   "metadata": {
    "collapsed": true
   },
   "outputs": [],
   "source": [
    "import numpy as np\n",
    "import pandas as pd\n",
    "import datetime\n",
    "import os\n",
    "import matplotlib.pyplot as plt\n",
    "import matplotlib\n",
    "import networkx as nx\n",
    "import pickle\n",
    "from collections import OrderedDict\n",
    "import copy\n",
    "from scipy.sparse import csr_matrix\n",
    "from scipy import io\n",
    "import seaborn as sns\n",
    "import joblib\n",
    "from base import *\n",
    "from joblib import Parallel, delayed\n",
    "import random"
   ]
  },
  {
   "cell_type": "markdown",
   "metadata": {},
   "source": [
    "## Read data"
   ]
  },
  {
   "cell_type": "markdown",
   "metadata": {},
   "source": [
    "### Read raw speed and count data"
   ]
  },
  {
   "cell_type": "code",
   "execution_count": 27,
   "metadata": {
    "collapsed": false,
    "scrolled": true
   },
   "outputs": [],
   "source": [
    "with open('link_count_data.pickle', 'rb') as handle:\n",
    "    count_data = pickle.load(handle)\n",
    "with open('link_spd_data.pickle', 'rb') as handle:\n",
    "    spd_data = pickle.load(handle)"
   ]
  },
  {
   "cell_type": "markdown",
   "metadata": {},
   "source": [
    "### Read graph data"
   ]
  },
  {
   "cell_type": "code",
   "execution_count": 28,
   "metadata": {
    "collapsed": false
   },
   "outputs": [],
   "source": [
    "with open('od_list.pickle', 'rb') as handle:\n",
    "    (O_list, D_list) = pickle.load(handle)\n",
    "G = nx.read_gpickle('graph.pickle')\n",
    "G = nx.freeze(G)"
   ]
  },
  {
   "cell_type": "markdown",
   "metadata": {},
   "source": [
    "## Interpolate the data"
   ]
  },
  {
   "cell_type": "code",
   "execution_count": 31,
   "metadata": {
    "collapsed": true
   },
   "outputs": [],
   "source": [
    "for name in count_data.iterkeys():\n",
    "    count_data[name] = count_data[name].replace(0.0, np.nan)\n",
    "    count_data[name] = count_data[name].interpolate(method='linear', axis=0)\n",
    "    count_data[name] = count_data[name].interpolate(method='linear', axis=1)\n",
    "    count_data[name] = count_data[name].fillna(value = count_data[name].mean().mean())\n",
    "for name in spd_data.iterkeys():\n",
    "    spd_data[name] = spd_data[name].replace(0.0, np.nan)\n",
    "    spd_data[name] = spd_data[name].interpolate(method='linear', axis=0)\n",
    "    spd_data[name] = spd_data[name].interpolate(method='linear', axis=1)\n",
    "    spd_data[name] = spd_data[name].fillna(value = spd_data[name].mean().mean())"
   ]
  },
  {
   "cell_type": "code",
   "execution_count": 32,
   "metadata": {
    "collapsed": false
   },
   "outputs": [
    {
     "data": {
      "text/html": [
       "<div>\n",
       "<table border=\"1\" class=\"dataframe\">\n",
       "  <thead>\n",
       "    <tr style=\"text-align: right;\">\n",
       "      <th></th>\n",
       "      <th>00:00:00</th>\n",
       "      <th>00:05:00</th>\n",
       "      <th>00:10:00</th>\n",
       "      <th>00:15:00</th>\n",
       "      <th>00:20:00</th>\n",
       "      <th>00:25:00</th>\n",
       "      <th>00:30:00</th>\n",
       "      <th>00:35:00</th>\n",
       "      <th>00:40:00</th>\n",
       "      <th>00:45:00</th>\n",
       "      <th>...</th>\n",
       "      <th>23:10:00</th>\n",
       "      <th>23:15:00</th>\n",
       "      <th>23:20:00</th>\n",
       "      <th>23:25:00</th>\n",
       "      <th>23:30:00</th>\n",
       "      <th>23:35:00</th>\n",
       "      <th>23:40:00</th>\n",
       "      <th>23:45:00</th>\n",
       "      <th>23:50:00</th>\n",
       "      <th>23:55:00</th>\n",
       "    </tr>\n",
       "  </thead>\n",
       "  <tbody>\n",
       "    <tr>\n",
       "      <th>2014-01-01</th>\n",
       "      <td>71.0</td>\n",
       "      <td>58.0</td>\n",
       "      <td>63.0</td>\n",
       "      <td>86.0</td>\n",
       "      <td>139.0</td>\n",
       "      <td>220.0</td>\n",
       "      <td>61.0</td>\n",
       "      <td>176.0</td>\n",
       "      <td>183.0</td>\n",
       "      <td>187.0</td>\n",
       "      <td>...</td>\n",
       "      <td>98.0</td>\n",
       "      <td>94.0</td>\n",
       "      <td>96.0</td>\n",
       "      <td>94.0</td>\n",
       "      <td>79.0</td>\n",
       "      <td>93.0</td>\n",
       "      <td>70.0</td>\n",
       "      <td>80.0</td>\n",
       "      <td>60.0</td>\n",
       "      <td>54.0</td>\n",
       "    </tr>\n",
       "    <tr>\n",
       "      <th>2014-01-02</th>\n",
       "      <td>60.0</td>\n",
       "      <td>50.0</td>\n",
       "      <td>44.0</td>\n",
       "      <td>42.0</td>\n",
       "      <td>67.0</td>\n",
       "      <td>65.0</td>\n",
       "      <td>49.0</td>\n",
       "      <td>37.0</td>\n",
       "      <td>44.0</td>\n",
       "      <td>38.0</td>\n",
       "      <td>...</td>\n",
       "      <td>113.0</td>\n",
       "      <td>117.0</td>\n",
       "      <td>113.0</td>\n",
       "      <td>103.0</td>\n",
       "      <td>81.0</td>\n",
       "      <td>84.0</td>\n",
       "      <td>85.0</td>\n",
       "      <td>88.0</td>\n",
       "      <td>61.0</td>\n",
       "      <td>74.0</td>\n",
       "    </tr>\n",
       "    <tr>\n",
       "      <th>2014-01-03</th>\n",
       "      <td>75.0</td>\n",
       "      <td>78.0</td>\n",
       "      <td>77.0</td>\n",
       "      <td>79.0</td>\n",
       "      <td>62.0</td>\n",
       "      <td>63.0</td>\n",
       "      <td>61.0</td>\n",
       "      <td>67.0</td>\n",
       "      <td>52.0</td>\n",
       "      <td>67.0</td>\n",
       "      <td>...</td>\n",
       "      <td>130.0</td>\n",
       "      <td>130.0</td>\n",
       "      <td>114.0</td>\n",
       "      <td>131.0</td>\n",
       "      <td>113.0</td>\n",
       "      <td>89.0</td>\n",
       "      <td>134.0</td>\n",
       "      <td>107.0</td>\n",
       "      <td>114.0</td>\n",
       "      <td>103.0</td>\n",
       "    </tr>\n",
       "    <tr>\n",
       "      <th>2014-01-04</th>\n",
       "      <td>93.0</td>\n",
       "      <td>95.0</td>\n",
       "      <td>83.0</td>\n",
       "      <td>124.0</td>\n",
       "      <td>97.0</td>\n",
       "      <td>83.0</td>\n",
       "      <td>86.0</td>\n",
       "      <td>92.0</td>\n",
       "      <td>81.0</td>\n",
       "      <td>73.0</td>\n",
       "      <td>...</td>\n",
       "      <td>127.0</td>\n",
       "      <td>140.0</td>\n",
       "      <td>124.0</td>\n",
       "      <td>122.0</td>\n",
       "      <td>114.0</td>\n",
       "      <td>107.0</td>\n",
       "      <td>95.0</td>\n",
       "      <td>124.0</td>\n",
       "      <td>86.0</td>\n",
       "      <td>98.0</td>\n",
       "    </tr>\n",
       "    <tr>\n",
       "      <th>2014-01-05</th>\n",
       "      <td>88.0</td>\n",
       "      <td>89.0</td>\n",
       "      <td>100.0</td>\n",
       "      <td>104.0</td>\n",
       "      <td>90.0</td>\n",
       "      <td>90.0</td>\n",
       "      <td>59.0</td>\n",
       "      <td>87.0</td>\n",
       "      <td>82.0</td>\n",
       "      <td>76.0</td>\n",
       "      <td>...</td>\n",
       "      <td>67.0</td>\n",
       "      <td>79.0</td>\n",
       "      <td>87.0</td>\n",
       "      <td>67.0</td>\n",
       "      <td>69.0</td>\n",
       "      <td>60.0</td>\n",
       "      <td>84.0</td>\n",
       "      <td>67.0</td>\n",
       "      <td>68.0</td>\n",
       "      <td>61.0</td>\n",
       "    </tr>\n",
       "  </tbody>\n",
       "</table>\n",
       "<p>5 rows × 288 columns</p>\n",
       "</div>"
      ],
      "text/plain": [
       "            00:00:00  00:05:00  00:10:00  00:15:00  00:20:00  00:25:00  \\\n",
       "2014-01-01      71.0      58.0      63.0      86.0     139.0     220.0   \n",
       "2014-01-02      60.0      50.0      44.0      42.0      67.0      65.0   \n",
       "2014-01-03      75.0      78.0      77.0      79.0      62.0      63.0   \n",
       "2014-01-04      93.0      95.0      83.0     124.0      97.0      83.0   \n",
       "2014-01-05      88.0      89.0     100.0     104.0      90.0      90.0   \n",
       "\n",
       "            00:30:00  00:35:00  00:40:00  00:45:00    ...     23:10:00  \\\n",
       "2014-01-01      61.0     176.0     183.0     187.0    ...         98.0   \n",
       "2014-01-02      49.0      37.0      44.0      38.0    ...        113.0   \n",
       "2014-01-03      61.0      67.0      52.0      67.0    ...        130.0   \n",
       "2014-01-04      86.0      92.0      81.0      73.0    ...        127.0   \n",
       "2014-01-05      59.0      87.0      82.0      76.0    ...         67.0   \n",
       "\n",
       "            23:15:00  23:20:00  23:25:00  23:30:00  23:35:00  23:40:00  \\\n",
       "2014-01-01      94.0      96.0      94.0      79.0      93.0      70.0   \n",
       "2014-01-02     117.0     113.0     103.0      81.0      84.0      85.0   \n",
       "2014-01-03     130.0     114.0     131.0     113.0      89.0     134.0   \n",
       "2014-01-04     140.0     124.0     122.0     114.0     107.0      95.0   \n",
       "2014-01-05      79.0      87.0      67.0      69.0      60.0      84.0   \n",
       "\n",
       "            23:45:00  23:50:00  23:55:00  \n",
       "2014-01-01      80.0      60.0      54.0  \n",
       "2014-01-02      88.0      61.0      74.0  \n",
       "2014-01-03     107.0     114.0     103.0  \n",
       "2014-01-04     124.0      86.0      98.0  \n",
       "2014-01-05      67.0      68.0      61.0  \n",
       "\n",
       "[5 rows x 288 columns]"
      ]
     },
     "execution_count": 32,
     "metadata": {},
     "output_type": "execute_result"
    }
   ],
   "source": [
    "count_data[781871616].head()"
   ]
  },
  {
   "cell_type": "code",
   "execution_count": 33,
   "metadata": {
    "collapsed": false
   },
   "outputs": [
    {
     "data": {
      "text/html": [
       "<div>\n",
       "<table border=\"1\" class=\"dataframe\">\n",
       "  <thead>\n",
       "    <tr style=\"text-align: right;\">\n",
       "      <th></th>\n",
       "      <th>00:00:00</th>\n",
       "      <th>00:05:00</th>\n",
       "      <th>00:10:00</th>\n",
       "      <th>00:15:00</th>\n",
       "      <th>00:20:00</th>\n",
       "      <th>00:25:00</th>\n",
       "      <th>00:30:00</th>\n",
       "      <th>00:35:00</th>\n",
       "      <th>00:40:00</th>\n",
       "      <th>00:45:00</th>\n",
       "      <th>...</th>\n",
       "      <th>23:10:00</th>\n",
       "      <th>23:15:00</th>\n",
       "      <th>23:20:00</th>\n",
       "      <th>23:25:00</th>\n",
       "      <th>23:30:00</th>\n",
       "      <th>23:35:00</th>\n",
       "      <th>23:40:00</th>\n",
       "      <th>23:45:00</th>\n",
       "      <th>23:50:00</th>\n",
       "      <th>23:55:00</th>\n",
       "    </tr>\n",
       "  </thead>\n",
       "  <tbody>\n",
       "    <tr>\n",
       "      <th>2014-01-01</th>\n",
       "      <td>25.218523</td>\n",
       "      <td>25.218523</td>\n",
       "      <td>25.218523</td>\n",
       "      <td>25.218523</td>\n",
       "      <td>25.218523</td>\n",
       "      <td>25.218523</td>\n",
       "      <td>25.218523</td>\n",
       "      <td>25.218523</td>\n",
       "      <td>25.218523</td>\n",
       "      <td>25.218523</td>\n",
       "      <td>...</td>\n",
       "      <td>27.704728</td>\n",
       "      <td>27.780013</td>\n",
       "      <td>27.855297</td>\n",
       "      <td>27.930582</td>\n",
       "      <td>28.005867</td>\n",
       "      <td>25.459879</td>\n",
       "      <td>27.215732</td>\n",
       "      <td>28.971586</td>\n",
       "      <td>28.971586</td>\n",
       "      <td>28.971586</td>\n",
       "    </tr>\n",
       "    <tr>\n",
       "      <th>2014-01-02</th>\n",
       "      <td>25.218523</td>\n",
       "      <td>25.218523</td>\n",
       "      <td>25.218523</td>\n",
       "      <td>25.218523</td>\n",
       "      <td>25.218523</td>\n",
       "      <td>25.218523</td>\n",
       "      <td>25.218523</td>\n",
       "      <td>25.218523</td>\n",
       "      <td>25.218523</td>\n",
       "      <td>25.218523</td>\n",
       "      <td>...</td>\n",
       "      <td>26.250738</td>\n",
       "      <td>26.646167</td>\n",
       "      <td>27.041597</td>\n",
       "      <td>27.437026</td>\n",
       "      <td>27.832456</td>\n",
       "      <td>25.733641</td>\n",
       "      <td>31.117630</td>\n",
       "      <td>28.699978</td>\n",
       "      <td>28.699978</td>\n",
       "      <td>28.699978</td>\n",
       "    </tr>\n",
       "    <tr>\n",
       "      <th>2014-01-03</th>\n",
       "      <td>25.218523</td>\n",
       "      <td>25.218523</td>\n",
       "      <td>25.218523</td>\n",
       "      <td>25.218523</td>\n",
       "      <td>25.218523</td>\n",
       "      <td>25.218523</td>\n",
       "      <td>25.218523</td>\n",
       "      <td>25.218523</td>\n",
       "      <td>25.218523</td>\n",
       "      <td>25.218523</td>\n",
       "      <td>...</td>\n",
       "      <td>28.686565</td>\n",
       "      <td>27.471032</td>\n",
       "      <td>26.255500</td>\n",
       "      <td>31.117630</td>\n",
       "      <td>27.659045</td>\n",
       "      <td>26.007403</td>\n",
       "      <td>30.811052</td>\n",
       "      <td>28.428369</td>\n",
       "      <td>31.017704</td>\n",
       "      <td>33.607040</td>\n",
       "    </tr>\n",
       "    <tr>\n",
       "      <th>2014-01-04</th>\n",
       "      <td>25.218523</td>\n",
       "      <td>25.218523</td>\n",
       "      <td>25.218523</td>\n",
       "      <td>25.218523</td>\n",
       "      <td>25.218523</td>\n",
       "      <td>25.218523</td>\n",
       "      <td>25.218523</td>\n",
       "      <td>24.005029</td>\n",
       "      <td>24.332370</td>\n",
       "      <td>24.659711</td>\n",
       "      <td>...</td>\n",
       "      <td>27.215732</td>\n",
       "      <td>25.459879</td>\n",
       "      <td>26.693092</td>\n",
       "      <td>30.174671</td>\n",
       "      <td>27.485634</td>\n",
       "      <td>26.281165</td>\n",
       "      <td>30.504474</td>\n",
       "      <td>28.156760</td>\n",
       "      <td>30.281774</td>\n",
       "      <td>32.406789</td>\n",
       "    </tr>\n",
       "    <tr>\n",
       "      <th>2014-01-05</th>\n",
       "      <td>25.218523</td>\n",
       "      <td>25.218523</td>\n",
       "      <td>25.218523</td>\n",
       "      <td>25.218523</td>\n",
       "      <td>25.218523</td>\n",
       "      <td>25.218523</td>\n",
       "      <td>25.218523</td>\n",
       "      <td>24.455123</td>\n",
       "      <td>24.790042</td>\n",
       "      <td>25.124960</td>\n",
       "      <td>...</td>\n",
       "      <td>27.696154</td>\n",
       "      <td>25.884210</td>\n",
       "      <td>27.130683</td>\n",
       "      <td>29.231713</td>\n",
       "      <td>27.312223</td>\n",
       "      <td>26.554927</td>\n",
       "      <td>30.197897</td>\n",
       "      <td>27.885152</td>\n",
       "      <td>24.005029</td>\n",
       "      <td>31.206537</td>\n",
       "    </tr>\n",
       "  </tbody>\n",
       "</table>\n",
       "<p>5 rows × 288 columns</p>\n",
       "</div>"
      ],
      "text/plain": [
       "             00:00:00   00:05:00   00:10:00   00:15:00   00:20:00   00:25:00  \\\n",
       "2014-01-01  25.218523  25.218523  25.218523  25.218523  25.218523  25.218523   \n",
       "2014-01-02  25.218523  25.218523  25.218523  25.218523  25.218523  25.218523   \n",
       "2014-01-03  25.218523  25.218523  25.218523  25.218523  25.218523  25.218523   \n",
       "2014-01-04  25.218523  25.218523  25.218523  25.218523  25.218523  25.218523   \n",
       "2014-01-05  25.218523  25.218523  25.218523  25.218523  25.218523  25.218523   \n",
       "\n",
       "             00:30:00   00:35:00   00:40:00   00:45:00    ...       23:10:00  \\\n",
       "2014-01-01  25.218523  25.218523  25.218523  25.218523    ...      27.704728   \n",
       "2014-01-02  25.218523  25.218523  25.218523  25.218523    ...      26.250738   \n",
       "2014-01-03  25.218523  25.218523  25.218523  25.218523    ...      28.686565   \n",
       "2014-01-04  25.218523  24.005029  24.332370  24.659711    ...      27.215732   \n",
       "2014-01-05  25.218523  24.455123  24.790042  25.124960    ...      27.696154   \n",
       "\n",
       "             23:15:00   23:20:00   23:25:00   23:30:00   23:35:00   23:40:00  \\\n",
       "2014-01-01  27.780013  27.855297  27.930582  28.005867  25.459879  27.215732   \n",
       "2014-01-02  26.646167  27.041597  27.437026  27.832456  25.733641  31.117630   \n",
       "2014-01-03  27.471032  26.255500  31.117630  27.659045  26.007403  30.811052   \n",
       "2014-01-04  25.459879  26.693092  30.174671  27.485634  26.281165  30.504474   \n",
       "2014-01-05  25.884210  27.130683  29.231713  27.312223  26.554927  30.197897   \n",
       "\n",
       "             23:45:00   23:50:00   23:55:00  \n",
       "2014-01-01  28.971586  28.971586  28.971586  \n",
       "2014-01-02  28.699978  28.699978  28.699978  \n",
       "2014-01-03  28.428369  31.017704  33.607040  \n",
       "2014-01-04  28.156760  30.281774  32.406789  \n",
       "2014-01-05  27.885152  24.005029  31.206537  \n",
       "\n",
       "[5 rows x 288 columns]"
      ]
     },
     "execution_count": 33,
     "metadata": {},
     "output_type": "execute_result"
    }
   ],
   "source": [
    "spd_data[781871616].head()"
   ]
  },
  {
   "cell_type": "markdown",
   "metadata": {},
   "source": [
    "## Enuerate all paths"
   ]
  },
  {
   "cell_type": "code",
   "execution_count": null,
   "metadata": {
    "collapsed": false,
    "scrolled": true
   },
   "outputs": [],
   "source": [
    "OD_paths = OrderedDict()\n",
    "link_dict = OrderedDict()\n",
    "path_list = list()\n",
    "for O in O_list:\n",
    "    for D in D_list:\n",
    "        paths = list(nx.all_simple_paths(G, O, D, cutoff=None))\n",
    "        print \"From \", O, \" To \", D, \"there are \", len(paths), \"paths\"\n",
    "        if len(paths) != 0:\n",
    "            tmp_path_list = list()\n",
    "            for path in paths:\n",
    "                path_o = Path()\n",
    "                path_o.node_list = path\n",
    "                path_o.node_to_list(G, link_dict)\n",
    "                tmp_path_list.append(path_o)\n",
    "                path_list.append(path_o)\n",
    "            OD_paths[(O, D)] = tmp_path_list"
   ]
  },
  {
   "cell_type": "markdown",
   "metadata": {},
   "source": [
    "## Generate Delta"
   ]
  },
  {
   "cell_type": "code",
   "execution_count": null,
   "metadata": {
    "collapsed": true
   },
   "outputs": [],
   "source": [
    "num_OD = len(OD_paths)\n",
    "link_list = list(link_dict.values())\n",
    "num_link = len(link_list)\n",
    "num_path_v = [len(x) for x in OD_paths.itervalues()]\n",
    "num_path = np.sum(num_path_v)\n",
    "N = 60 / 5 * 24\n",
    "assert(len(path_list) == num_path)"
   ]
  },
  {
   "cell_type": "code",
   "execution_count": null,
   "metadata": {
    "collapsed": true
   },
   "outputs": [],
   "source": [
    "delta = np.zeros((num_link, num_path))\n",
    "for i, link in enumerate(link_list):\n",
    "    for j, path in enumerate(path_list):\n",
    "        if link in path.link_list:\n",
    "            delta[i,j] = 1.0"
   ]
  },
  {
   "cell_type": "code",
   "execution_count": null,
   "metadata": {
    "collapsed": true
   },
   "outputs": [],
   "source": [
    "link_loc = dict()\n",
    "for idx, link in enumerate(link_list):\n",
    "    link_loc[link] = idx"
   ]
  },
  {
   "cell_type": "markdown",
   "metadata": {},
   "source": [
    "## Build assignment matrix"
   ]
  },
  {
   "cell_type": "code",
   "execution_count": null,
   "metadata": {
    "collapsed": true
   },
   "outputs": [],
   "source": [
    "analysis_start_time = datetime.time(0, 0, 0)\n",
    "time_interval = datetime.timedelta(minutes=5)"
   ]
  },
  {
   "cell_type": "code",
   "execution_count": null,
   "metadata": {
    "collapsed": false
   },
   "outputs": [],
   "source": [
    "start_date = datetime.date(2014, 1, 1)\n",
    "end_date = datetime.date(2016, 12, 31)\n",
    "delta_date = datetime.timedelta(days = 1)\n",
    "time_basis = datetime.time(0,0,0)\n",
    "cur_date_time = datetime.datetime.combine(start_date, time_basis)\n",
    "end_date_time = datetime.datetime.combine(end_date, time_basis)\n",
    "\n",
    "date_need_to_finish = list()\n",
    "\n",
    "while(cur_date_time <= end_date_time):\n",
    "    no = cur_date_time.weekday()\n",
    "    if no < 8:\n",
    "        single_date = cur_date_time.date()\n",
    "        date_need_to_finish.append(single_date)\n",
    "    cur_date_time = cur_date_time + delta_date"
   ]
  },
  {
   "cell_type": "markdown",
   "metadata": {},
   "source": [
    "A parallel computing framework is used to compute the R matrix as well as P matrix. Since we have a 8 core CPU, so we use 7 process to run the program, leaving one core to ensure the desktop does not get stuck."
   ]
  },
  {
   "cell_type": "code",
   "execution_count": null,
   "metadata": {
    "collapsed": false,
    "scrolled": true
   },
   "outputs": [],
   "source": [
    "Parallel(n_jobs=7, temp_folder = 'temp', max_nbytes = '10M')(delayed(save_r)(N, spd_data, analysis_start_time, time_interval, \n",
    "                        tmp_date, link_dict, link_list, link_loc, path_list) for tmp_date in date_need_to_finish)"
   ]
  },
  {
   "cell_type": "markdown",
   "metadata": {},
   "source": [
    "## Construct P matrix"
   ]
  },
  {
   "cell_type": "code",
   "execution_count": 20,
   "metadata": {
    "collapsed": false,
    "scrolled": true
   },
   "outputs": [],
   "source": [
    "start_date = datetime.date(2014, 1, 1)\n",
    "end_date = datetime.date(2016, 12, 31)\n",
    "delta_date = datetime.timedelta(days = 1)\n",
    "time_basis = datetime.time(0,0,0)\n",
    "cur_date_time = datetime.datetime.combine(start_date, time_basis)\n",
    "end_date_time = datetime.datetime.combine(end_date, time_basis)\n",
    "\n",
    "date_need_to_finish = list()\n",
    "\n",
    "while(cur_date_time <= end_date_time):\n",
    "# #     date_need_to_finish.append(cur_date_time)\n",
    "    no = cur_date_time.weekday()\n",
    "    if no < 8:\n",
    "        single_date = cur_date_time.date()\n",
    "        date_need_to_finish.append(single_date)\n",
    "    cur_date_time = cur_date_time + delta_date"
   ]
  },
  {
   "cell_type": "markdown",
   "metadata": {},
   "source": [
    "#### parallel computing"
   ]
  },
  {
   "cell_type": "code",
   "execution_count": null,
   "metadata": {
    "collapsed": false
   },
   "outputs": [],
   "source": [
    "Parallel(n_jobs=7)(delayed(save_p)(N, spd_data, analysis_start_time, time_interval, \n",
    "                                   tmp_date, path_list, OD_paths) for tmp_date in date_need_to_finish)"
   ]
  },
  {
   "cell_type": "markdown",
   "metadata": {},
   "source": [
    "## Construct link flow vector"
   ]
  },
  {
   "cell_type": "code",
   "execution_count": 23,
   "metadata": {
    "collapsed": true
   },
   "outputs": [],
   "source": [
    "o_link_list = filter(lambda x: x.ID in count_data.keys(), link_list)"
   ]
  },
  {
   "cell_type": "code",
   "execution_count": 24,
   "metadata": {
    "collapsed": true
   },
   "outputs": [],
   "source": [
    "def get_x_o(N, o_link_list, tmp_date, analysis_start_time, time_interval, count_data):\n",
    "    num_o_link = len(o_link_list)\n",
    "    x = np.zeros(num_o_link * N)\n",
    "    for h in xrange(N):\n",
    "        start_time = (datetime.datetime.combine(tmp_date, analysis_start_time) + h * time_interval).time()\n",
    "        for a, link in enumerate(o_link_list):\n",
    "            data = np.float(count_data[link.ID].loc[tmp_date][start_time])\n",
    "            x[h * num_o_link + a] = data\n",
    "    return x"
   ]
  },
  {
   "cell_type": "code",
   "execution_count": null,
   "metadata": {
    "collapsed": false
   },
   "outputs": [],
   "source": [
    "start_date = datetime.date(2014, 1, 1)\n",
    "end_date = datetime.date(2016, 12, 31)\n",
    "delta_date = datetime.timedelta(days = 1)\n",
    "time_basis = datetime.time(0,0,0)\n",
    "cur_date_time = datetime.datetime.combine(start_date, time_basis)\n",
    "end_date_time = datetime.datetime.combine(end_date, time_basis)\n",
    "\n",
    "date_need_to_finish = list()\n",
    "\n",
    "while(cur_date_time <= end_date_time):\n",
    "    try:\n",
    "        no = cur_date_time.weekday()\n",
    "        if no < 8:\n",
    "            single_date = cur_date_time.date()\n",
    "            date_str = single_date.strftime(\"%Y-%m-%d\")\n",
    "            print date_str\n",
    "            x = get_x_o(N, o_link_list, single_date, analysis_start_time, time_interval, count_data)\n",
    "            np.save(os.path.join('X_vector', date_str), x)\n",
    "        cur_date_time = cur_date_time + delta_date\n",
    "    except:\n",
    "        cur_date_time = cur_date_time + delta_date\n",
    "        continue"
   ]
  },
  {
   "cell_type": "markdown",
   "metadata": {},
   "source": [
    "## Create the observed delta (time dependent)"
   ]
  },
  {
   "cell_type": "code",
   "execution_count": 26,
   "metadata": {
    "collapsed": false
   },
   "outputs": [],
   "source": [
    "observe_index = np.array(map(lambda x: x in o_link_list, link_list)).astype(np.int)\n",
    "observe_index_N = np.tile(observe_index, (N,))\n",
    "np.save(os.path.join(\"observe_index_N\"), observe_index_N)\n",
    "\n",
    "### IT'S WRONG !!! ###\n",
    "# delta_o = np.eye(num_link)[observe_index == 1, :]\n",
    "# delta_o_N = np.tile(delta_o, (N,N))\n",
    "# delta_o_N_s = csr_matrix(delta_o_N)\n",
    "### IT'S WRONG !!! ###"
   ]
  },
  {
   "cell_type": "markdown",
   "metadata": {},
   "source": [
    "## Load data to conduct DODE"
   ]
  },
  {
   "cell_type": "markdown",
   "metadata": {},
   "source": [
    "You can run this part directly as we provided data for 2014.1.1, to generate more R matrix and P matrix you need to run previous sessions."
   ]
  },
  {
   "cell_type": "code",
   "execution_count": 2,
   "metadata": {
    "collapsed": true
   },
   "outputs": [],
   "source": [
    "from pfe import nnls"
   ]
  },
  {
   "cell_type": "code",
   "execution_count": 3,
   "metadata": {
    "collapsed": false
   },
   "outputs": [],
   "source": [
    "tmp_date=datetime.date(random.randint(2014,2014), random.randint(1,1), random.randint(1,1))\n",
    "date_str = tmp_date.strftime(\"%Y-%m-%d\")"
   ]
  },
  {
   "cell_type": "code",
   "execution_count": 4,
   "metadata": {
    "collapsed": false
   },
   "outputs": [],
   "source": [
    "observe_index_N = np.load(\"observe_index_N.npy\")\n",
    "x_o = np.load(os.path.join('X_vector', date_str + \".npy\"))\n",
    "r = joblib.load(os.path.join(\"R_matrix\", date_str+\".pickle\")).tocsr()\n",
    "P = joblib.load(os.path.join(\"P_matrix\", date_str+\".pickle\")).tocsr()\n",
    "A = np.array(r.dot(P).todense())[observe_index_N == 1,:]"
   ]
  },
  {
   "cell_type": "code",
   "execution_count": 26,
   "metadata": {
    "collapsed": false
   },
   "outputs": [
    {
     "name": "stdout",
     "output_type": "stream",
     "text": [
      "(24768, 23328)\n",
      "(24768,)\n"
     ]
    }
   ],
   "source": [
    "print A.shape\n",
    "print x_o.shape"
   ]
  },
  {
   "cell_type": "code",
   "execution_count": null,
   "metadata": {
    "collapsed": false
   },
   "outputs": [],
   "source": [
    "(q_est, r_norm) = nnls(A, x_o, 200, 1024 * 8, 5, adagrad = True, use_GPU = True)\n",
    "x_est =  A.dot(q_est)"
   ]
  },
  {
   "cell_type": "code",
   "execution_count": null,
   "metadata": {
    "collapsed": false,
    "scrolled": false
   },
   "outputs": [],
   "source": [
    "plt.plot(x_o, A.dot(q_est), 'o')\n",
    "plt.plot(x_o, x_o, 'r')\n",
    "plt.show()"
   ]
  },
  {
   "cell_type": "markdown",
   "metadata": {},
   "source": [
    "## Batch computing for all dates"
   ]
  },
  {
   "cell_type": "markdown",
   "metadata": {},
   "source": [
    "This sessesion is used to run the DODE method for all dates"
   ]
  },
  {
   "cell_type": "code",
   "execution_count": null,
   "metadata": {
    "collapsed": true
   },
   "outputs": [],
   "source": [
    "def get_qest2(tmp_date, P_date_dict):\n",
    "    date_str = tmp_date.strftime(\"%Y-%m-%d\")\n",
    "    P_date_str = P_date_dict[tmp_date].strftime(\"%Y-%m-%d\")\n",
    "    observe_index_N = np.load(\"observe_index_N.npy\")\n",
    "    x_o = np.load(os.path.join('X_vector', date_str + \".npy\"))\n",
    "    r = joblib.load(os.path.join(\"R_matrix\", date_str+\".pickle\")).tocsr()\n",
    "    P = joblib.load(os.path.join(\"P_matrix\", P_date_str+\".pickle\")).tocsr()\n",
    "    A = np.array(r.dot(P).todense())[observe_index_N == 1,:]\n",
    "    (q_est, r_norm) = nnls(A, x_o, 300, 8192, 5, adagrad = True, use_GPU = True, \n",
    "             D_vec = None, D_vec_weight = 0.01)\n",
    "    print date_str, r_norm\n",
    "    pickle.dump((q_est, r_norm), open(os.path.join('Q_vector', date_str + '.pickle'), 'wb'))"
   ]
  },
  {
   "cell_type": "code",
   "execution_count": null,
   "metadata": {
    "collapsed": true
   },
   "outputs": [],
   "source": [
    "cluster_dict = pickle.load(open('cluster_info.pickle', 'rb'))\n",
    "P_date_dict = dict()\n",
    "for key, value in cluster_dict.iteritems():\n",
    "    new_value = value[0]\n",
    "    for e in value:\n",
    "        P_date_dict[e] = new_value"
   ]
  },
  {
   "cell_type": "code",
   "execution_count": null,
   "metadata": {
    "collapsed": false,
    "scrolled": false
   },
   "outputs": [],
   "source": [
    "start_date = datetime.date(2014, 1, 1)\n",
    "end_date = datetime.date(2016, 12, 31)\n",
    "delta_date = datetime.timedelta(days = 1)\n",
    "time_basis = datetime.time(0,0,0)\n",
    "cur_date_time = datetime.datetime.combine(start_date, time_basis)\n",
    "end_date_time = datetime.datetime.combine(end_date, time_basis)\n",
    "date_qest = OrderedDict()\n",
    "\n",
    "while(cur_date_time <= end_date_time):\n",
    "    no = cur_date_time.weekday()\n",
    "    if no < 8:\n",
    "        single_date = cur_date_time.date()\n",
    "        date_str = single_date.strftime(\"%Y-%m-%d\")\n",
    "        print date_str\n",
    "        get_qest2(single_date, P_date_dict)\n",
    "    cur_date_time = cur_date_time + delta_date"
   ]
  }
 ],
 "metadata": {
  "kernelspec": {
   "display_name": "Python 2",
   "language": "python",
   "name": "python2"
  },
  "language_info": {
   "codemirror_mode": {
    "name": "ipython",
    "version": 2
   },
   "file_extension": ".py",
   "mimetype": "text/x-python",
   "name": "python",
   "nbconvert_exporter": "python",
   "pygments_lexer": "ipython2",
   "version": "2.7.13"
  }
 },
 "nbformat": 4,
 "nbformat_minor": 2
}
